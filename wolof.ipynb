{
 "cells": [
  {
   "cell_type": "code",
   "execution_count": 4,
   "id": "c81d4bba",
   "metadata": {},
   "outputs": [
    {
     "name": "stdout",
     "output_type": "stream",
     "text": [
      " First 500 Characters:\n",
      "\n",
      "Ndawu réew boobu di Gaal de defa mel ni deñoo naxarlu ‘niróó ak ay walakaana’\n",
      "Njakkare amna si yenn Ndaw ci lu ñeel soppi seen tur boobu di MWPs ( Ndawu pencum réeww boobu di Gaal ).\n",
      "Li jogloo jooju mbir bokk na ci pexe ngir soppi tuuru pencum ndawu réew mi defaat ko Peccum réew bu Gaal.\n",
      "Ci seen mbootaayu politik, ndawu réew boobu jakknanu ci ni mbir. mi mune dem ba soof\n",
      "Kenn ci ndawu parti boobu tuddu Ligeey neena ay ñooñam jakk nañu lool ndax mbir yi ‘ndof ak ay dof day lay niru.’\n",
      "Ngir tarikat\n",
      "Last 500 characters:\n",
      "\n",
      "celot et un Chat sauvage. \n",
      "Gar yi \n",
      "Gnathostomata Super-classe Tetrapoda Classe Mammalia Sous-classe Theria Infra-classe Eutheria Ordre Carnivora Sous-ordre Caniformia Famille Canidae Genre Canis Espèce Canis lupus Linnaeus, 1758 Répartition géographique Aire de répartition des sous-espèces sauvages non férales. Boy gi \n",
      "Fransois Hollande [1955] (ci Faraañse mooy François Hollande) Nekkoon na nitu guur gu Fraas, moo sos juróomeelu gaw bu Fraas 1958, jiite na réewum Fraas li ko dale 2012 ba 2017. \n",
      "\n"
     ]
    }
   ],
   "source": [
    "# Étape 1 : Chargement et aperçu du texte\n",
    "with open(\"wolof.txt\", \"r\", encoding=\"utf-8\") as f:\n",
    "    wolof_text = f.read()\n",
    "\n",
    "# Afficher les 500 premiers caractères\n",
    "print(\" First 500 Characters:\\n\")\n",
    "print(wolof_text[:500])\n",
    "# \n",
    "print(\"Last 500 characters:\\n\")\n",
    "print(wolof_text[-500:])"
   ]
  }
 ],
 "metadata": {
  "kernelspec": {
   "display_name": "Python 3",
   "language": "python",
   "name": "python3"
  },
  "language_info": {
   "codemirror_mode": {
    "name": "ipython",
    "version": 3
   },
   "file_extension": ".py",
   "mimetype": "text/x-python",
   "name": "python",
   "nbconvert_exporter": "python",
   "pygments_lexer": "ipython3",
   "version": "3.10.12"
  }
 },
 "nbformat": 4,
 "nbformat_minor": 5
}
